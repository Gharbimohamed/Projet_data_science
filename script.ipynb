{
 "cells": [
  {
   "cell_type": "code",
   "execution_count": 1,
   "metadata": {},
   "outputs": [],
   "source": [
    "####################################l'import des bibliothèques##########################################################\n",
    "import numpy as np\n",
    "import matplotlib.pyplot as plt\n",
    "import seaborn as sn\n",
    "import os\n",
    "import pandas as pd\n",
    "import math\n",
    "from sklearn import preprocessing\n",
    "from sklearn.neighbors import KNeighborsClassifier\n",
    "from sklearn.discriminant_analysis import LinearDiscriminantAnalysis\n",
    "from sklearn.discriminant_analysis import QuadraticDiscriminantAnalysis\n",
    "from sklearn.metrics import classification_report, confusion_matrix\n",
    "from sklearn.model_selection import train_test_split\n",
    "## bayesien\n",
    "from sklearn.naive_bayes import GaussianNB\n",
    "from sklearn.metrics import accuracy_score\n",
    "#Random forest\n",
    "from sklearn.ensemble import RandomForestClassifier\n",
    "from sklearn.metrics import confusion_matrix\n",
    "# Import Decision Tree Classifier\n",
    "from sklearn.tree import DecisionTreeClassifier\n",
    "# logistic regression \n",
    "from sklearn.linear_model import LogisticRegression \n",
    "# l'assurance de l'équilibre du dataset ( dealing with imbalanced data)\n",
    "from sklearn.utils import resample\n",
    "from imblearn.under_sampling import RandomUnderSampler\n",
    "from imblearn.over_sampling import RandomOverSampler\n",
    "from imblearn.over_sampling import SMOTE\n",
    "# le centrage des données \n",
    "from sklearn.preprocessing import StandardScaler,RobustScaler\n",
    "from sklearn import decomposition\n",
    "from sklearn.preprocessing import OrdinalEncoder\n",
    "#################################### l'import des bibliothèques ##########################################################"
   ]
  },
  {
   "cell_type": "code",
   "execution_count": 2,
   "metadata": {},
   "outputs": [],
   "source": [
    "######################################fonction de normalisation########################################################\n",
    "\n",
    "def normalisation(dataframe):\n",
    "    x = dataframe.iloc[:, :-1].values #returns a numpy array\n",
    "    X_scaler = preprocessing.StandardScaler()\n",
    "    x_scaled = X_scaler.fit_transform(x)\n",
    "    dataframe = pd.DataFrame(x_scaled,columns=[\"V1\",\"V2\"])\n",
    "    return dataframe\n",
    "\n",
    "######################################fonction de normalisation#######################################################"
   ]
  },
  {
   "cell_type": "code",
   "execution_count": 3,
   "metadata": {},
   "outputs": [],
   "source": [
    " ######################################## KNN ####################################################################\n",
    "\n",
    "def knn(data,s):\n",
    "    \n",
    "    X = s.values\n",
    "    # la variable classe \" type d'appartenance\"\n",
    "    y = data.values\n",
    "    # création des données de test et d'entrainement\n",
    "\n",
    "    X_train, X_test, y_train, y_test = train_test_split(X, y, test_size=0.30)\n",
    "\n",
    "    # Le choix du k \n",
    "    error = []\n",
    "\n",
    "    # Calcul des erreurs en k variant \n",
    "    for i in range(2, 40):\n",
    "        print(i)\n",
    "        knn = KNeighborsClassifier(n_neighbors=i)\n",
    "        knn.fit(X_train, y_train)\n",
    "        pred_i = knn.predict(X_test)\n",
    "        error.append(np.mean(pred_i != y_test))\n",
    "\n",
    "    print(\"le nombre de k idéal est l'un des valeur de la liste indice +1\")   \n",
    "    indices = [i for i, x in enumerate(error) if x == min(error)]\n",
    "    print(indices)\n",
    "    print(\"par choix nous avons pris le plus grand \")\n",
    "    print(int(indices[-1])+2)\n",
    "    plt.figure(figsize=(12, 6))\n",
    "    plt.plot(range(1, 40), error, color='red', linestyle='dashed', marker='o',\n",
    "             markerfacecolor='blue', markersize=10)\n",
    "    plt.title('Error Rate K Value')\n",
    "    plt.xlabel('K Value')\n",
    "    plt.ylabel('Mean Error')"
   ]
  },
  {
   "cell_type": "code",
   "execution_count": 4,
   "metadata": {},
   "outputs": [],
   "source": [
    "######################################### bayesien naif###########################################################\n",
    "\n",
    "def bayesien_naif(data,s):\n",
    "    #On sépare les données et les classes\n",
    "    x = s\n",
    "    y = data\n",
    "    #On fractionne les datas (train-test)\n",
    "    x_train, x_test, y_train, y_test = train_test_split(s,y,test_size=0.20,random_state=42)\n",
    "    print(x_train.shape)\n",
    "    print(x_test.shape)\n",
    "    print(y_test.shape)\n",
    "    print(y_train.shape)\n",
    "    #On instancie le modèle\n",
    "    model_Gaussian = GaussianNB()\n",
    "    \n",
    "    #Entrainement\n",
    "    model_Gaussian.fit(x_train, y_train)\n",
    "    \n",
    "    #Prédiction\n",
    "    prediction = model_Gaussian.predict(x_test)\n",
    "    print(prediction)\n",
    "    \n",
    "    #On évalue le model afin de connaitre sa précision, la valeur est donnée entre 0 et 1 (d'où le *100)\n",
    "    precision = accuracy_score(y_test, prediction)*100\n",
    "    print(precision)\n",
    "    "
   ]
  },
  {
   "cell_type": "code",
   "execution_count": 5,
   "metadata": {},
   "outputs": [],
   "source": [
    "############################### Random forest############################################################\n",
    "def random_forest(data,s):\n",
    "    x = s\n",
    "    print(x)\n",
    "    y = data\n",
    "    x_train, x_test, y_train, y_test= train_test_split(x,y,test_size=0.4)\n",
    "    print(x_train)\n",
    "    print(y_train)\n",
    "    #n_estimators : le nombre d'arbres générés\n",
    "    aleatoire = RandomForestClassifier()\n",
    "    aleatoire.fit(x_train, y_train)\n",
    "    a=aleatoire.score(x_test, y_test)\n",
    "    print(a)\n",
    "    prediction= aleatoire.predict(x_test)\n",
    "    print('je suis')\n",
    "    print(prediction)\n",
    "    cm = confusion_matrix(y_test, prediction)\n",
    "    print(cm)\n",
    "    plt.figure(figsize=(10, 7))\n",
    "    sn.heatmap(cm, annot=True)\n",
    "    plt.title('random forest table')\n",
    "    plt.xlabel('prédit ')\n",
    "    plt.ylabel('testés')\n",
    "\n",
    "\n"
   ]
  },
  {
   "cell_type": "code",
   "execution_count": 6,
   "metadata": {},
   "outputs": [],
   "source": [
    "################################################ LDA ############################################################\n",
    "def LDA(data,s):  \n",
    "    X = s\n",
    "    y = data\n",
    "    lda = LinearDiscriminantAnalysis()\n",
    "    lda.fit(X,y)\n",
    "    print(lda.score(X,y))\n",
    "\n",
    "############################################### LDA #############################################################\n",
    "\n",
    "############################################### QDA #############################################################\n",
    "\n",
    "def QDA(data,s):\n",
    "    X = s\n",
    "    y = data\n",
    "    qda = QuadraticDiscriminantAnalysis()\n",
    "    model = qda.fit(X, y)\n",
    "    print(model.score(X,y))\n",
    "\n",
    "############################################### QDA #############################################################\n",
    "\n",
    "############################################## Decision tree ###################################################\n",
    "def decision_tree(data,s):\n",
    "    x = s\n",
    "    y = data\n",
    "    x_train, x_test, y_train, y_test= train_test_split(x,y,test_size=0.3, random_state=1)\n",
    "    # Create Decision Tree classifer object\n",
    "    clf = DecisionTreeClassifier()\n",
    "\n",
    "    # Train Decision Tree Classifer\n",
    "    clf = clf.fit(x_train,y_train)\n",
    "    \n",
    "    #Predict the response for test dataset\n",
    "    y_pred = clf.predict(x_test)\n",
    "    print(\"Accuracy:\",accuracy_score(y_test, y_pred))\n",
    "\n",
    "############################################## Decision Tree ###################################################"
   ]
  },
  {
   "cell_type": "code",
   "execution_count": 7,
   "metadata": {},
   "outputs": [],
   "source": [
    "########################################## SVM linear #########################################################\n",
    "\n",
    "from sklearn.svm import SVC\n",
    "from sklearn.metrics import classification_report\n",
    "\n",
    "def SVM_Linear(data,s):\n",
    "    X = s\n",
    "    y = data\n",
    "    X_train, X_test, y_train, y_test = train_test_split(X, y, test_size = 0.20, random_state=1)\n",
    "    svm = SVC(kernel='linear')\n",
    "    svm.fit(X_train, y_train)\n",
    "    sm = svm.score(X_test,y_test)\n",
    "    print(\"le score est \")\n",
    "    print(sm)\n",
    "    y_pred = svm.predict(X_test)\n",
    "    print(confusion_matrix(y_test,y_pred))\n",
    "    print(classification_report(y_test,y_pred))\n",
    "########################################## SVM  linear ##########################################################\n",
    "\n",
    "########################################## SVM non linear  #########################################################\n",
    "\n",
    "from sklearn.svm import SVC\n",
    "from sklearn.metrics import classification_report\n",
    "\n",
    "def SVM_non_Linear(data,s):\n",
    "    X = s\n",
    "    y = data\n",
    "    X_train, X_test, y_train, y_test = train_test_split(X, y, test_size = 0.20, random_state=1)\n",
    "    svm = SVC(kernel='poly')\n",
    "    svm.fit(X_train, y_train)\n",
    "    sm = svm.score(X_test,y_test)\n",
    "    print(\"le score est \")\n",
    "    print(sm)\n",
    "    y_pred = svm.predict(X_test)\n",
    "    print(confusion_matrix(y_test,y_pred))\n",
    "    print(classification_report(y_test,y_pred))\n",
    "\n"
   ]
  },
  {
   "cell_type": "code",
   "execution_count": 8,
   "metadata": {},
   "outputs": [],
   "source": [
    "########################################## Linear reggression ###################################################\n",
    "def regression_lineaire(data,s):\n",
    "    X = s\n",
    "    y = data\n",
    "    X_train, X_test, y_train, y_test = train_test_split(X, y, test_size = 0.20, random_state=1)\n",
    "    model = LogisticRegression()\n",
    "    model.fit(X_train, y_train)\n",
    "    y_pred = model.predict(X_test)\n",
    "    print(y_pred)\n",
    "    m = model.score(X_test,y_pred)\n",
    "    print(m)\n",
    "######################################### Linear regression ######################################################"
   ]
  },
  {
   "cell_type": "code",
   "execution_count": 9,
   "metadata": {},
   "outputs": [],
   "source": [
    "########################################### Fonction comparaison #################################################\n",
    "\n",
    "\n",
    "########################################## Fonction comparaison #################################################"
   ]
  },
  {
   "cell_type": "code",
   "execution_count": 10,
   "metadata": {},
   "outputs": [],
   "source": [
    "######################################## Test sur les données synthétiques #######################################\n",
    "\n",
    "# La récupération des données \n",
    "data_spiral = pd.read_csv(\"data/spiral.txt\", sep=\"\\t\")\n",
    "data_flame =pd.read_csv(\"data/flame.txt\", sep=\"\\t\")\n",
    "data_agg = pd.read_csv(\"data/flame.txt\", sep=\"\\t\")\n",
    "\n",
    "# la normalisation des données \n",
    "norm_spiral= normalisation(data_spiral)\n",
    "norm_flame= normalisation(data_flame)\n",
    "norm_agg=normalisation(data_agg)\n"
   ]
  },
  {
   "cell_type": "code",
   "execution_count": 11,
   "metadata": {},
   "outputs": [
    {
     "name": "stdout",
     "output_type": "stream",
     "text": [
      "---------------------Etude exploratoire préliminaire---------------------\n",
      "\n",
      "\n",
      "Spiral\n",
      "            31.95        7.95\n",
      "count  311.000000  311.000000\n",
      "mean    18.364630   16.371704\n",
      "std      7.270992    6.861701\n",
      "min      3.000000    2.900000\n",
      "25%     12.875000   11.375000\n",
      "50%     18.200000   16.050000\n",
      "75%     23.275000   21.425000\n",
      "max     31.650000   31.650000\n",
      "Flame\n",
      "             1.85        27.8\n",
      "count  239.000000  239.000000\n",
      "mean     7.346653   20.899791\n",
      "std      3.189473    3.360983\n",
      "min      0.500000   14.450000\n",
      "25%      5.275000   18.225000\n",
      "50%      7.300000   20.700000\n",
      "75%      9.325000   23.525000\n",
      "max     14.200000   27.600000\n",
      "Aggregation\n",
      "             1.85        27.8\n",
      "count  239.000000  239.000000\n",
      "mean     7.346653   20.899791\n",
      "std      3.189473    3.360983\n",
      "min      0.500000   14.450000\n",
      "25%      5.275000   18.225000\n",
      "50%      7.300000   20.700000\n",
      "75%      9.325000   23.525000\n",
      "max     14.200000   27.600000\n"
     ]
    },
    {
     "data": {
      "text/plain": [
       "{'whiskers': [<matplotlib.lines.Line2D at 0x248daa4c5b0>,\n",
       "  <matplotlib.lines.Line2D at 0x248daa4c970>,\n",
       "  <matplotlib.lines.Line2D at 0x248daa56cd0>,\n",
       "  <matplotlib.lines.Line2D at 0x248daa60070>],\n",
       " 'caps': [<matplotlib.lines.Line2D at 0x248daa4ccd0>,\n",
       "  <matplotlib.lines.Line2D at 0x248daa56070>,\n",
       "  <matplotlib.lines.Line2D at 0x248daa603d0>,\n",
       "  <matplotlib.lines.Line2D at 0x248daa60730>],\n",
       " 'boxes': [<matplotlib.lines.Line2D at 0x248daa4c280>,\n",
       "  <matplotlib.lines.Line2D at 0x248daa56970>],\n",
       " 'medians': [<matplotlib.lines.Line2D at 0x248daa562b0>,\n",
       "  <matplotlib.lines.Line2D at 0x248daa60a90>],\n",
       " 'fliers': [<matplotlib.lines.Line2D at 0x248daa56610>,\n",
       "  <matplotlib.lines.Line2D at 0x248daa60df0>],\n",
       " 'means': []}"
      ]
     },
     "execution_count": 11,
     "metadata": {},
     "output_type": "execute_result"
    },
    {
     "data": {
      "image/png": "[encoded data removed]",
      "text/plain": [
       "<Figure size 432x288 with 1 Axes>"
      ]
     },
     "metadata": {
      "needs_background": "light"
     },
     "output_type": "display_data"
    },
    {
     "data": {
      "image/png": "[encoded data removed]",
      "text/plain": [
       "<Figure size 432x288 with 1 Axes>"
      ]
     },
     "metadata": {
      "needs_background": "light"
     },
     "output_type": "display_data"
    },
    {
     "data": {
      "image/png": "[encoded data removed]",
      "text/plain": [
       "<Figure size 432x288 with 1 Axes>"
      ]
     },
     "metadata": {
      "needs_background": "light"
     },
     "output_type": "display_data"
    }
   ],
   "source": [
    "####################################### étude exploratoire préliminaire #############################################\n",
    "\n",
    "print(\"---------------------Etude exploratoire préliminaire---------------------\\n\\n\")\n",
    "print(\"Spiral\")\n",
    "print(data_spiral.iloc[:, :-1].describe())\n",
    "\n",
    "print(\"Flame\")\n",
    "print(data_flame.iloc[:, :-1].describe())\n",
    "\n",
    "print(\"Aggregation\")\n",
    "print(data_agg.iloc[:, :-1].describe())\n",
    "\n",
    "\n",
    "\n",
    "#box plot de chaque dataset \n",
    "\n",
    "fig1, ax1 = plt.subplots()\n",
    "ax1.set_title('Box Plot du dataset Spiral')\n",
    "ax1.boxplot(norm_spiral)\n",
    "fig2, ax2 = plt.subplots()\n",
    "ax2.set_title('Box Plot du dataset flame')\n",
    "ax2.boxplot(norm_flame)\n",
    "fig3, ax3 = plt.subplots()\n",
    "ax3.set_title('Box Plot du dataset aggregation')\n",
    "ax3.boxplot(norm_agg)\n",
    "\n",
    "####################################### étude exploratoire préliminaire #############################################"
   ]
  },
  {
   "cell_type": "code",
   "execution_count": 12,
   "metadata": {},
   "outputs": [
    {
     "name": "stdout",
     "output_type": "stream",
     "text": [
      "2\n",
      "3\n",
      "4\n",
      "5\n",
      "6\n",
      "7\n",
      "8\n",
      "9\n",
      "10\n",
      "11\n",
      "12\n",
      "13\n",
      "14\n",
      "15\n",
      "16\n",
      "17\n",
      "18\n",
      "19\n",
      "20\n",
      "21\n",
      "22\n",
      "23\n",
      "24\n",
      "25\n",
      "26\n",
      "27\n",
      "28\n",
      "29\n",
      "30\n",
      "31\n",
      "32\n",
      "33\n",
      "34\n",
      "35\n",
      "36\n",
      "37\n",
      "38\n",
      "39\n",
      "le nombre de k idéal est l'un des valeur de la liste indice +1\n",
      "[0]\n",
      "par choix nous avons pris le plus grand \n",
      "2\n"
     ]
    },
    {
     "ename": "ValueError",
     "evalue": "x and y must have same first dimension, but have shapes (39,) and (38,)",
     "output_type": "error",
     "traceback": [
      "\u001b[1;31m---------------------------------------------------------------------------\u001b[0m",
      "\u001b[1;31mValueError\u001b[0m                                Traceback (most recent call last)",
      "\u001b[1;32m<ipython-input-12-2d6c17944d88>\u001b[0m in \u001b[0;36m<module>\u001b[1;34m\u001b[0m\n\u001b[0;32m      1\u001b[0m \u001b[1;31m############################### La comparaison des méthodes sur le dataset Spiral ##################################\u001b[0m\u001b[1;33m\u001b[0m\u001b[1;33m\u001b[0m\u001b[1;33m\u001b[0m\u001b[0m\n\u001b[0;32m      2\u001b[0m \u001b[1;33m\u001b[0m\u001b[0m\n\u001b[1;32m----> 3\u001b[1;33m \u001b[0mknn\u001b[0m\u001b[1;33m(\u001b[0m\u001b[0mdata_spiral\u001b[0m\u001b[1;33m.\u001b[0m\u001b[0miloc\u001b[0m\u001b[1;33m[\u001b[0m\u001b[1;33m:\u001b[0m\u001b[1;33m,\u001b[0m \u001b[1;33m-\u001b[0m\u001b[1;36m1\u001b[0m\u001b[1;33m]\u001b[0m\u001b[1;33m,\u001b[0m\u001b[0mnorm_spiral\u001b[0m\u001b[1;33m)\u001b[0m\u001b[1;33m\u001b[0m\u001b[1;33m\u001b[0m\u001b[0m\n\u001b[0m\u001b[0;32m      4\u001b[0m \u001b[0mbayesien_naif\u001b[0m\u001b[1;33m(\u001b[0m\u001b[0mdata_spiral\u001b[0m\u001b[1;33m.\u001b[0m\u001b[0miloc\u001b[0m\u001b[1;33m[\u001b[0m\u001b[1;33m:\u001b[0m\u001b[1;33m,\u001b[0m \u001b[1;33m-\u001b[0m\u001b[1;36m1\u001b[0m\u001b[1;33m]\u001b[0m\u001b[1;33m,\u001b[0m\u001b[0mnorm_spiral\u001b[0m\u001b[1;33m)\u001b[0m\u001b[1;33m\u001b[0m\u001b[1;33m\u001b[0m\u001b[0m\n\u001b[0;32m      5\u001b[0m \u001b[0mrandom_forest\u001b[0m\u001b[1;33m(\u001b[0m\u001b[0mdata_spiral\u001b[0m\u001b[1;33m.\u001b[0m\u001b[0miloc\u001b[0m\u001b[1;33m[\u001b[0m\u001b[1;33m:\u001b[0m\u001b[1;33m,\u001b[0m \u001b[1;33m-\u001b[0m\u001b[1;36m1\u001b[0m\u001b[1;33m]\u001b[0m\u001b[1;33m,\u001b[0m\u001b[0mnorm_spiral\u001b[0m\u001b[1;33m)\u001b[0m\u001b[1;33m\u001b[0m\u001b[1;33m\u001b[0m\u001b[0m\n",
      "\u001b[1;32m<ipython-input-3-bb4479c86981>\u001b[0m in \u001b[0;36mknn\u001b[1;34m(data, s)\u001b[0m\n\u001b[0;32m     27\u001b[0m    \u001b[0mprint\u001b[0m\u001b[1;33m(\u001b[0m\u001b[0mint\u001b[0m\u001b[1;33m(\u001b[0m\u001b[0mindices\u001b[0m\u001b[1;33m[\u001b[0m\u001b[1;33m-\u001b[0m\u001b[1;36m1\u001b[0m\u001b[1;33m]\u001b[0m\u001b[1;33m)\u001b[0m\u001b[1;33m+\u001b[0m\u001b[1;36m2\u001b[0m\u001b[1;33m)\u001b[0m\u001b[1;33m\u001b[0m\u001b[1;33m\u001b[0m\u001b[0m\n\u001b[0;32m     28\u001b[0m    \u001b[0mplt\u001b[0m\u001b[1;33m.\u001b[0m\u001b[0mfigure\u001b[0m\u001b[1;33m(\u001b[0m\u001b[0mfigsize\u001b[0m\u001b[1;33m=\u001b[0m\u001b[1;33m(\u001b[0m\u001b[1;36m12\u001b[0m\u001b[1;33m,\u001b[0m \u001b[1;36m6\u001b[0m\u001b[1;33m)\u001b[0m\u001b[1;33m)\u001b[0m\u001b[1;33m\u001b[0m\u001b[1;33m\u001b[0m\u001b[0m\n\u001b[1;32m---> 29\u001b[1;33m    plt.plot(range(1, 40), error, color='red', linestyle='dashed', marker='o',\n\u001b[0m\u001b[0;32m     30\u001b[0m             markerfacecolor='blue', markersize=10)\n\u001b[0;32m     31\u001b[0m    \u001b[0mplt\u001b[0m\u001b[1;33m.\u001b[0m\u001b[0mtitle\u001b[0m\u001b[1;33m(\u001b[0m\u001b[1;34m'Error Rate K Value'\u001b[0m\u001b[1;33m)\u001b[0m\u001b[1;33m\u001b[0m\u001b[1;33m\u001b[0m\u001b[0m\n",
      "\u001b[1;32mA:\\anaconda3\\lib\\site-packages\\matplotlib\\pyplot.py\u001b[0m in \u001b[0;36mplot\u001b[1;34m(scalex, scaley, data, *args, **kwargs)\u001b[0m\n\u001b[0;32m   2838\u001b[0m \u001b[1;33m@\u001b[0m\u001b[0m_copy_docstring_and_deprecators\u001b[0m\u001b[1;33m(\u001b[0m\u001b[0mAxes\u001b[0m\u001b[1;33m.\u001b[0m\u001b[0mplot\u001b[0m\u001b[1;33m)\u001b[0m\u001b[1;33m\u001b[0m\u001b[1;33m\u001b[0m\u001b[0m\n\u001b[0;32m   2839\u001b[0m \u001b[1;32mdef\u001b[0m \u001b[0mplot\u001b[0m\u001b[1;33m(\u001b[0m\u001b[1;33m*\u001b[0m\u001b[0margs\u001b[0m\u001b[1;33m,\u001b[0m \u001b[0mscalex\u001b[0m\u001b[1;33m=\u001b[0m\u001b[1;32mTrue\u001b[0m\u001b[1;33m,\u001b[0m \u001b[0mscaley\u001b[0m\u001b[1;33m=\u001b[0m\u001b[1;32mTrue\u001b[0m\u001b[1;33m,\u001b[0m \u001b[0mdata\u001b[0m\u001b[1;33m=\u001b[0m\u001b[1;32mNone\u001b[0m\u001b[1;33m,\u001b[0m \u001b[1;33m**\u001b[0m\u001b[0mkwargs\u001b[0m\u001b[1;33m)\u001b[0m\u001b[1;33m:\u001b[0m\u001b[1;33m\u001b[0m\u001b[1;33m\u001b[0m\u001b[0m\n\u001b[1;32m-> 2840\u001b[1;33m     return gca().plot(\n\u001b[0m\u001b[0;32m   2841\u001b[0m         \u001b[1;33m*\u001b[0m\u001b[0margs\u001b[0m\u001b[1;33m,\u001b[0m \u001b[0mscalex\u001b[0m\u001b[1;33m=\u001b[0m\u001b[0mscalex\u001b[0m\u001b[1;33m,\u001b[0m \u001b[0mscaley\u001b[0m\u001b[1;33m=\u001b[0m\u001b[0mscaley\u001b[0m\u001b[1;33m,\u001b[0m\u001b[1;33m\u001b[0m\u001b[1;33m\u001b[0m\u001b[0m\n\u001b[0;32m   2842\u001b[0m         **({\"data\": data} if data is not None else {}), **kwargs)\n",
      "\u001b[1;32mA:\\anaconda3\\lib\\site-packages\\matplotlib\\axes\\_axes.py\u001b[0m in \u001b[0;36mplot\u001b[1;34m(self, scalex, scaley, data, *args, **kwargs)\u001b[0m\n\u001b[0;32m   1741\u001b[0m         \"\"\"\n\u001b[0;32m   1742\u001b[0m         \u001b[0mkwargs\u001b[0m \u001b[1;33m=\u001b[0m \u001b[0mcbook\u001b[0m\u001b[1;33m.\u001b[0m\u001b[0mnormalize_kwargs\u001b[0m\u001b[1;33m(\u001b[0m\u001b[0mkwargs\u001b[0m\u001b[1;33m,\u001b[0m \u001b[0mmlines\u001b[0m\u001b[1;33m.\u001b[0m\u001b[0mLine2D\u001b[0m\u001b[1;33m)\u001b[0m\u001b[1;33m\u001b[0m\u001b[1;33m\u001b[0m\u001b[0m\n\u001b[1;32m-> 1743\u001b[1;33m         \u001b[0mlines\u001b[0m \u001b[1;33m=\u001b[0m \u001b[1;33m[\u001b[0m\u001b[1;33m*\u001b[0m\u001b[0mself\u001b[0m\u001b[1;33m.\u001b[0m\u001b[0m_get_lines\u001b[0m\u001b[1;33m(\u001b[0m\u001b[1;33m*\u001b[0m\u001b[0margs\u001b[0m\u001b[1;33m,\u001b[0m \u001b[0mdata\u001b[0m\u001b[1;33m=\u001b[0m\u001b[0mdata\u001b[0m\u001b[1;33m,\u001b[0m \u001b[1;33m**\u001b[0m\u001b[0mkwargs\u001b[0m\u001b[1;33m)\u001b[0m\u001b[1;33m]\u001b[0m\u001b[1;33m\u001b[0m\u001b[1;33m\u001b[0m\u001b[0m\n\u001b[0m\u001b[0;32m   1744\u001b[0m         \u001b[1;32mfor\u001b[0m \u001b[0mline\u001b[0m \u001b[1;32min\u001b[0m \u001b[0mlines\u001b[0m\u001b[1;33m:\u001b[0m\u001b[1;33m\u001b[0m\u001b[1;33m\u001b[0m\u001b[0m\n\u001b[0;32m   1745\u001b[0m             \u001b[0mself\u001b[0m\u001b[1;33m.\u001b[0m\u001b[0madd_line\u001b[0m\u001b[1;33m(\u001b[0m\u001b[0mline\u001b[0m\u001b[1;33m)\u001b[0m\u001b[1;33m\u001b[0m\u001b[1;33m\u001b[0m\u001b[0m\n",
      "\u001b[1;32mA:\\anaconda3\\lib\\site-packages\\matplotlib\\axes\\_base.py\u001b[0m in \u001b[0;36m__call__\u001b[1;34m(self, data, *args, **kwargs)\u001b[0m\n\u001b[0;32m    271\u001b[0m                 \u001b[0mthis\u001b[0m \u001b[1;33m+=\u001b[0m \u001b[0margs\u001b[0m\u001b[1;33m[\u001b[0m\u001b[1;36m0\u001b[0m\u001b[1;33m]\u001b[0m\u001b[1;33m,\u001b[0m\u001b[1;33m\u001b[0m\u001b[1;33m\u001b[0m\u001b[0m\n\u001b[0;32m    272\u001b[0m                 \u001b[0margs\u001b[0m \u001b[1;33m=\u001b[0m \u001b[0margs\u001b[0m\u001b[1;33m[\u001b[0m\u001b[1;36m1\u001b[0m\u001b[1;33m:\u001b[0m\u001b[1;33m]\u001b[0m\u001b[1;33m\u001b[0m\u001b[1;33m\u001b[0m\u001b[0m\n\u001b[1;32m--> 273\u001b[1;33m             \u001b[1;32myield\u001b[0m \u001b[1;32mfrom\u001b[0m \u001b[0mself\u001b[0m\u001b[1;33m.\u001b[0m\u001b[0m_plot_args\u001b[0m\u001b[1;33m(\u001b[0m\u001b[0mthis\u001b[0m\u001b[1;33m,\u001b[0m \u001b[0mkwargs\u001b[0m\u001b[1;33m)\u001b[0m\u001b[1;33m\u001b[0m\u001b[1;33m\u001b[0m\u001b[0m\n\u001b[0m\u001b[0;32m    274\u001b[0m \u001b[1;33m\u001b[0m\u001b[0m\n\u001b[0;32m    275\u001b[0m     \u001b[1;32mdef\u001b[0m \u001b[0mget_next_color\u001b[0m\u001b[1;33m(\u001b[0m\u001b[0mself\u001b[0m\u001b[1;33m)\u001b[0m\u001b[1;33m:\u001b[0m\u001b[1;33m\u001b[0m\u001b[1;33m\u001b[0m\u001b[0m\n",
      "\u001b[1;32mA:\\anaconda3\\lib\\site-packages\\matplotlib\\axes\\_base.py\u001b[0m in \u001b[0;36m_plot_args\u001b[1;34m(self, tup, kwargs)\u001b[0m\n\u001b[0;32m    397\u001b[0m \u001b[1;33m\u001b[0m\u001b[0m\n\u001b[0;32m    398\u001b[0m         \u001b[1;32mif\u001b[0m \u001b[0mx\u001b[0m\u001b[1;33m.\u001b[0m\u001b[0mshape\u001b[0m\u001b[1;33m[\u001b[0m\u001b[1;36m0\u001b[0m\u001b[1;33m]\u001b[0m \u001b[1;33m!=\u001b[0m \u001b[0my\u001b[0m\u001b[1;33m.\u001b[0m\u001b[0mshape\u001b[0m\u001b[1;33m[\u001b[0m\u001b[1;36m0\u001b[0m\u001b[1;33m]\u001b[0m\u001b[1;33m:\u001b[0m\u001b[1;33m\u001b[0m\u001b[1;33m\u001b[0m\u001b[0m\n\u001b[1;32m--> 399\u001b[1;33m             raise ValueError(f\"x and y must have same first dimension, but \"\n\u001b[0m\u001b[0;32m    400\u001b[0m                              f\"have shapes {x.shape} and {y.shape}\")\n\u001b[0;32m    401\u001b[0m         \u001b[1;32mif\u001b[0m \u001b[0mx\u001b[0m\u001b[1;33m.\u001b[0m\u001b[0mndim\u001b[0m \u001b[1;33m>\u001b[0m \u001b[1;36m2\u001b[0m \u001b[1;32mor\u001b[0m \u001b[0my\u001b[0m\u001b[1;33m.\u001b[0m\u001b[0mndim\u001b[0m \u001b[1;33m>\u001b[0m \u001b[1;36m2\u001b[0m\u001b[1;33m:\u001b[0m\u001b[1;33m\u001b[0m\u001b[1;33m\u001b[0m\u001b[0m\n",
      "\u001b[1;31mValueError\u001b[0m: x and y must have same first dimension, but have shapes (39,) and (38,)"
     ]
    },
    {
     "data": {
      "image/png": "[encoded data removed]",
      "text/plain": [
       "<Figure size 864x432 with 1 Axes>"
      ]
     },
     "metadata": {
      "needs_background": "light"
     },
     "output_type": "display_data"
    }
   ],
   "source": [
    "############################### La comparaison des méthodes sur le dataset Spiral ##################################\n",
    "\n",
    "knn(data_spiral.iloc[:, -1],norm_spiral)\n",
    "bayesien_naif(data_spiral.iloc[:, -1],norm_spiral)\n",
    "random_forest(data_spiral.iloc[:, -1],norm_spiral)\n",
    "decision_tree(data_spiral.iloc[:, -1],norm_spiral)\n",
    "LDA(data_spiral.iloc[:, -1],norm_spiral)\n",
    "QDA(data_spiral.iloc[:, -1],norm_spiral)\n",
    "SVM_Linear(data_spiral.iloc[:, -1],norm_spiral)\n",
    "regression_lineaire(data_spiral.iloc[:, -1],norm_spiral)"
   ]
  },
  {
   "cell_type": "code",
   "execution_count": null,
   "metadata": {},
   "outputs": [],
   "source": [
    "knn(data_flame.iloc[:, -1],norm_flame)\n",
    "bayesien_naif(data_flame.iloc[:, -1],norm_flame)\n",
    "random_forest(data_flame.iloc[:, -1],norm_flame)\n",
    "decision_tree(data_flame.iloc[:, -1],norm_flame)\n",
    "LDA(data_flame.iloc[:, -1],norm_flame)\n",
    "QDA(data_flame.iloc[:, -1],norm_flame)\n",
    "SVM_Linear(data_flame.iloc[:, -1],norm_flame)\n",
    "regression_lineaire(data_flame.iloc[:, -1],norm_flame)"
   ]
  },
  {
   "cell_type": "code",
   "execution_count": null,
   "metadata": {},
   "outputs": [],
   "source": [
    "knn(data_agg.iloc[:, -1],norm_agg)\n",
    "bayesien_naif(data_agg.iloc[:, -1],norm_agg)\n",
    "random_forest(data_agg.iloc[:, -1],norm_agg)\n",
    "decision_tree(data_agg.iloc[:, -1],norm_agg)\n",
    "LDA(data_agg.iloc[:, -1],norm_agg)\n",
    "QDA(data_agg.iloc[:, -1],norm_agg)\n",
    "SVM_Linear(data_agg.iloc[:, -1],norm_agg)\n",
    "regression_lineaire(data_agg.iloc[:, -1],norm_agg)"
   ]
  },
  {
   "cell_type": "code",
   "execution_count": null,
   "metadata": {},
   "outputs": [],
   "source": [
    "######################################## Credit Card FRAUDE ####################################################\n",
    "data_card=pd.read_csv(\"data/creditcard.csv\")\n",
    "\n",
    "x= data_card['Class'].value_counts()\n",
    "# dealing with imbalanced data \n",
    "# la suppression de la variable temps car elle n'apporte aucune information significative à l'analyse \n",
    "\n",
    "data_card = data_card.iloc[:,1:]\n",
    "# le centrage des données : \n",
    "\n",
    "rb = RobustScaler()\n",
    "\n",
    "data_card['Amount'] = rb.fit_transform(data_card['Amount'].values.reshape(-1,1))\n",
    "#print(data_card)\n",
    "\n",
    "# l'application du under sampling \n",
    "rus = RandomUnderSampler()\n",
    "x_underS, y_underS= rus.fit_sample(data_card.iloc[:,:-1],data_card.iloc[:,-1])\n",
    "\n",
    "print(x_underS)\n",
    "print(y_underS)\n",
    "# l'application du over sampling \n",
    "ros = RandomOverSampler()\n",
    "X_ros, y_ros = ros.fit_sample(data_card.iloc[:,:-1],data_card.iloc[:,-1])\n",
    "\n",
    "#print(X_ros)\n"
   ]
  },
  {
   "cell_type": "code",
   "execution_count": null,
   "metadata": {},
   "outputs": [],
   "source": [
    "    \n",
    "knn(y_underS,x_underS)\n",
    "bayesien_naif(y_underS,x_underS)\n",
    "random_forest(y_underS,x_underS)\n",
    "decision_tree(y_underS,x_underS)\n",
    "LDA(y_underS,x_underS)\n",
    "QDA(y_underS,x_underS)\n",
    "SVM_Linear(y_underS,x_underS)\n",
    "regression_lineaire(y_underS,x_underS)"
   ]
  },
  {
   "cell_type": "code",
   "execution_count": null,
   "metadata": {},
   "outputs": [],
   "source": [
    "#knn(y_ros,X_ros)\n"
   ]
  },
  {
   "cell_type": "code",
   "execution_count": null,
   "metadata": {},
   "outputs": [],
   "source": [
    "########################################### VISA PREMIER ######################################################\n",
    "df_visa = pd.read_csv(\"data/Visapremier.txt\", sep=\"\\t\")\n",
    "\n",
    "#On récupere toutes les valeurs qui ne sont pas numériques et les colonnes comportant des points\n",
    "#(qui correspondent dans notre dataset à des valeurs nulles)\n",
    "str_var = df_visa.select_dtypes(exclude=np.number).columns.tolist()\n",
    "str_var"
   ]
  },
  {
   "cell_type": "code",
   "execution_count": null,
   "metadata": {},
   "outputs": [],
   "source": [
    "#Outil pour passer de cat en nombre\n",
    "from sklearn import decomposition\n",
    "enc = OrdinalEncoder()\n",
    "df_visa_tr = df_visa.copy()\n",
    "\n",
    "#on remplace les valeurs categorielles en leur codage numerique\n",
    "df_visa_tr[str_var]=enc.fit_transform(df_visa[str_var])\n",
    "\n",
    "#recuperation de la variable à expliquer\n",
    "Y = df_visa_tr.cartevpr\n",
    "\n",
    "#suppression de la variable à expliquer (elle existe en double)\n",
    "df_visa_tr.drop(columns=['cartevp', 'cartevpr'], inplace=True)\n",
    "\n",
    "# Centrage et Réduction\n",
    "X_scaled = pd.DataFrame(preprocessing.StandardScaler().fit_transform(df_visa_tr))     "
   ]
  },
  {
   "cell_type": "code",
   "execution_count": null,
   "metadata": {},
   "outputs": [],
   "source": [
    "knn(Y,X_scaled)"
   ]
  },
  {
   "cell_type": "code",
   "execution_count": null,
   "metadata": {},
   "outputs": [],
   "source": [
    "bayesien_naif(Y,X_scaled)"
   ]
  },
  {
   "cell_type": "code",
   "execution_count": null,
   "metadata": {},
   "outputs": [],
   "source": [
    "random_forest(Y,X_scaled)"
   ]
  },
  {
   "cell_type": "code",
   "execution_count": null,
   "metadata": {},
   "outputs": [],
   "source": [
    "decision_tree(Y,X_scaled)"
   ]
  },
  {
   "cell_type": "code",
   "execution_count": null,
   "metadata": {},
   "outputs": [],
   "source": [
    "LDA(Y,X_scaled)"
   ]
  },
  {
   "cell_type": "code",
   "execution_count": null,
   "metadata": {},
   "outputs": [],
   "source": [
    "QDA(Y,X_scaled)"
   ]
  },
  {
   "cell_type": "code",
   "execution_count": null,
   "metadata": {},
   "outputs": [],
   "source": [
    "SVM_Linear(Y,X_scaled)"
   ]
  },
  {
   "cell_type": "code",
   "execution_count": null,
   "metadata": {},
   "outputs": [],
   "source": [
    "regression_lineaire(Y,X_scaled)"
   ]
  },
  {
   "cell_type": "code",
   "execution_count": null,
   "metadata": {},
   "outputs": [],
   "source": []
  }
 ],
 "metadata": {
  "kernelspec": {
   "display_name": "Python 3",
   "language": "python",
   "name": "python3"
  },
  "language_info": {
   "codemirror_mode": {
    "name": "ipython",
    "version": 3
   },
   "file_extension": ".py",
   "mimetype": "text/x-python",
   "name": "python",
   "nbconvert_exporter": "python",
   "pygments_lexer": "ipython3",
   "version": "3.8.5"
  }
 },
 "nbformat": 4,
 "nbformat_minor": 4
}
